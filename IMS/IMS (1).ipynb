{
 "cells": [
  {
   "cell_type": "code",
   "execution_count": 11,
   "metadata": {},
   "outputs": [],
   "source": [
    "records = {\"1001\": {'name': 'Dairymilk', 'quantity': 34, 'price': 150},\n",
    "           \"1002\": {'name': 'Milky bar', 'quantity': 400, 'price': 15}, \n",
    "           \"1003\": {'name': 'Ferroro Rocher', 'quantity': 60, 'price': 600} ,\n",
    "           \"1004\": {'name': 'Lollipop', 'quantity': 80, 'price': 5},\n",
    "           \"1005\": {'name': 'Twix', 'quantity': 50, 'price': 95},\n",
    "           \"1006\": {'name': 'Mars', 'quantity': 40, 'price': 150},\n",
    "           \"1007\": {'name': 'Snickers', 'quantity': 70, 'price': 30},\n",
    "           \"1008\": {'name': 'Nutella', 'quantity': 50, 'price': 100},\n",
    "           \"1009\": {'name': 'Kinderjoy', 'quantity': 700, 'price': 40},\n",
    "           \"1010\": {'name': 'Dark chocolate', 'quantity': 85, 'price': 98},\n",
    "           \"1011\": {'name': 'Kit Kat', 'quantity': 300, 'price': 32},\n",
    "           \"1012\": {'name': '5 star', 'quantity': 400, 'price': 23},\n",
    "           \"1013\": {'name': 'Gems', 'quantity': 124, 'price': 15},\n",
    "           \"1014\": {'name': 'Munch', 'quantity': 180, 'price': 5},\n",
    "           \"1015\": {'name': 'Bournville', 'quantity': 300, 'price': 120}}"
   ]
  },
  {
   "cell_type": "code",
   "execution_count": 12,
   "metadata": {},
   "outputs": [
    {
     "data": {
      "text/plain": [
       "{'1001': {'name': 'Dairymilk', 'quantity': 34, 'price': 150},\n",
       " '1002': {'name': 'Milky bar', 'quantity': 400, 'price': 15},\n",
       " '1003': {'name': 'Ferroro Rocher', 'quantity': 60, 'price': 600},\n",
       " '1004': {'name': 'Lollipop', 'quantity': 80, 'price': 5},\n",
       " '1005': {'name': 'Twix', 'quantity': 50, 'price': 95},\n",
       " '1006': {'name': 'Mars', 'quantity': 40, 'price': 150},\n",
       " '1007': {'name': 'Snickers', 'quantity': 70, 'price': 30},\n",
       " '1008': {'name': 'Nutella', 'quantity': 50, 'price': 100},\n",
       " '1009': {'name': 'Kinderjoy', 'quantity': 700, 'price': 40},\n",
       " '1010': {'name': 'Dark chocolate', 'quantity': 85, 'price': 98},\n",
       " '1011': {'name': 'Kit Kat', 'quantity': 300, 'price': 32},\n",
       " '1012': {'name': '5 star', 'quantity': 400, 'price': 23},\n",
       " '1013': {'name': 'Gems', 'quantity': 124, 'price': 15},\n",
       " '1014': {'name': 'Munch', 'quantity': 180, 'price': 5},\n",
       " '1015': {'name': 'Bournville', 'quantity': 300, 'price': 120}}"
      ]
     },
     "execution_count": 12,
     "metadata": {},
     "output_type": "execute_result"
    }
   ],
   "source": [
    "records"
   ]
  },
  {
   "cell_type": "code",
   "execution_count": 13,
   "metadata": {},
   "outputs": [],
   "source": [
    "import json\n",
    "js =json.dumps(records)\n",
    "\n",
    "fd = open(\"records.json\",'w')\n",
    "fd.write(js)\n",
    "fd.close()"
   ]
  },
  {
   "cell_type": "code",
   "execution_count": 14,
   "metadata": {},
   "outputs": [],
   "source": [
    "fd = open('records.json', 'r')\n",
    "t = fd.read()\n",
    "fd.close()\n",
    "\n",
    "fd = open('records.json','w')\n",
    "fd.write(t)\n",
    "fd.close()\n",
    "\n",
    "sales = {}\n",
    "\n",
    "sales = json.dumps(sales)\n",
    "\n",
    "fd = open(\"sales.json\", 'w')\n",
    "fd.write(sales)\n",
    "fd.close()"
   ]
  },
  {
   "cell_type": "code",
   "execution_count": 15,
   "metadata": {},
   "outputs": [],
   "source": [
    "import json\n",
    "import time"
   ]
  },
  {
   "cell_type": "code",
   "execution_count": 16,
   "metadata": {},
   "outputs": [],
   "source": [
    "fd = open('records.json','r')\n",
    "t = fd.read()\n",
    "fd.close()\n",
    "dct = json.loads(t)"
   ]
  },
  {
   "cell_type": "code",
   "execution_count": 17,
   "metadata": {},
   "outputs": [
    {
     "data": {
      "text/plain": [
       "dict_keys(['1001', '1002', '1003', '1004', '1005', '1006', '1007', '1008', '1009', '1010', '1011', '1012', '1013', '1014', '1015'])"
      ]
     },
     "execution_count": 17,
     "metadata": {},
     "output_type": "execute_result"
    }
   ],
   "source": [
    "fd = open(\"sales.json\", 'r')\n",
    "sl = fd.read()\n",
    "fd.close()\n",
    "sales = json.loads(sl)\n",
    "dct.keys()"
   ]
  },
  {
   "cell_type": "code",
   "execution_count": 20,
   "metadata": {},
   "outputs": [
    {
     "name": "stdout",
     "output_type": "stream",
     "text": [
      "**********************************************\n",
      "1001 {'name': 'Dairymilk', 'quantity': 34, 'price': 150}\n",
      "1002 {'name': 'Milky bar', 'quantity': 400, 'price': 15}\n",
      "1003 {'name': 'Ferroro Rocher', 'quantity': 60, 'price': 600}\n",
      "1004 {'name': 'Lollipop', 'quantity': 80, 'price': 5}\n",
      "1005 {'name': 'Twix', 'quantity': 50, 'price': 95}\n",
      "1006 {'name': 'Mars', 'quantity': 40, 'price': 150}\n",
      "1007 {'name': 'Snickers', 'quantity': 70, 'price': 30}\n",
      "1008 {'name': 'Nutella', 'quantity': 50, 'price': 100}\n",
      "1009 {'name': 'Kinderjoy', 'quantity': 700, 'price': 40}\n",
      "1010 {'name': 'Dark chocolate', 'quantity': 85, 'price': 98}\n",
      "1011 {'name': 'Kit Kat', 'quantity': 300, 'price': 32}\n",
      "1012 {'name': '5 star', 'quantity': 400, 'price': 23}\n",
      "1013 {'name': 'Gems', 'quantity': 124, 'price': 15}\n",
      "1014 {'name': 'Munch', 'quantity': 180, 'price': 5}\n",
      "1015 {'name': 'Bournville', 'quantity': 300, 'price': 120}\n",
      "******************************************\n",
      "\n"
     ]
    },
    {
     "name": "stdin",
     "output_type": "stream",
     "text": [
      "Enter the product_Id:  1007\n",
      "Enter the quantity:  15\n"
     ]
    },
    {
     "name": "stdout",
     "output_type": "stream",
     "text": [
      "Name: Snickers\n",
      "Price: 30\n",
      "Quantity: 15\n",
      "------------------------------\n",
      "Billing Amount: 450\n",
      "------------------------------\n",
      "Data Updated in Sales File!\n",
      "Data Updated in Inventory File!\n"
     ]
    }
   ],
   "source": [
    "print(\"**********************************************\")\n",
    "for i in dct.keys():\n",
    "  print(i, dct[i])\n",
    "\n",
    "print(\"******************************************\\n\")\n",
    "ui_prod  = str(input(\"Enter the product_Id: \"))\n",
    "ui_quant = int(input(\"Enter the quantity: \"))\n",
    "\n",
    "\n",
    "if (ui_prod in dct.keys()):                                                     \n",
    "    if (dct[ui_prod]['quantity'] >= ui_quant):                                        \n",
    "      print(\"Name:\",dct[ui_prod]['name'])\n",
    "      print(\"Price:\",dct[ui_prod]['price'])\n",
    "      print(\"Quantity:\", ui_quant)\n",
    "      print(\"------------------------------\")\n",
    "      print(\"Billing Amount:\", dct[ui_prod]['price'] * ui_quant)\n",
    "\n",
    "      dct[ui_prod]['quantity'] = dct[ui_prod]['quantity'] - ui_quant                        \n",
    "\n",
    "      sales[str(len(sales)+1)] = {'prod_id' : ui_prod,                          \n",
    "                                  \"time_pr\" :  time.ctime(), \n",
    "                                  'bill' : dct[ui_prod]['price'] * ui_quant, \n",
    "                                  'quantity' : ui_quant, \n",
    "                                  'price' : dct[ui_prod]['price'], \n",
    "                                  'pr_name' : dct[ui_prod]['name']}\n",
    "\n",
    "\n",
    "    else:                                                                       \n",
    "      print(\"Sorry, We are not having that much of quantity.\")\n",
    "      print(\"We're only having\",dct[ui_prod]['quantity'],\"quantity.\")\n",
    "      print(\"Would you like to purchase or not (Y/N)\")\n",
    "      ch = str(input(\"Y/N\"))\n",
    "      if (ch == \"Y\"):                                                          \n",
    "        print(\"Name:\",dct[ui_prod]['name'])\n",
    "        print(\"Price:\",dct[ui_prod]['price'])\n",
    "        print(\"Quantity:\", dct[ui_prod]['quantity'])\n",
    "        print(\"------------------------------\")\n",
    "        print(\"Billing Amount:\", dct[ui_prod]['price'] * dct[ui_prod]['quantity'])\n",
    "\n",
    "        dct[ui_prod]['quantity'] = 0                                                  \n",
    "        sales[str(len(sales)+1)] = {'prod_id' : ui_prod,                        \n",
    "                                    \"time_pr\" :  time.ctime(), \n",
    "                                    'bill' : dct[ui_prod]['price'] * dct[ui_prod]['quantity'], \n",
    "                                    'quantity' : dct[ui_prod]['quantity'], \n",
    "                                    'price' : dct[ui_prod]['price'], \n",
    "                                    'pr_name' : dct[ui_prod]['name']}\n",
    "\n",
    "      else:                                                                     \n",
    "        print(\"Thankyou!\")\n",
    "\n",
    "else:                                                                           \n",
    "  print(\"------------------------------\")\n",
    "  print(\"Product doesn't exist!\")\n",
    "  print(\"Please enter a valid product id\")\n",
    "  print(\"------------------------------\")\n",
    "\n",
    "\n",
    "\n",
    "sl = json.dumps(sales)                                                          \n",
    "fd = open('sales.json','w')\n",
    "fd.write(sl)\n",
    "fd.close()\n",
    "\n",
    "print(\"------------------------------\")\n",
    "print(\"Data Updated in Sales File!\")\n",
    "js = json.dumps(dct)                                                            \n",
    "fd = open('records.json','w')\n",
    "fd.write(js)\n",
    "fd.close()\n",
    "\n",
    "print(\"Data Updated in Inventory File!\")"
   ]
  },
  {
   "cell_type": "code",
   "execution_count": 21,
   "metadata": {},
   "outputs": [
    {
     "data": {
      "text/plain": [
       "{'1001': {'name': 'Dairymilk', 'quantity': 34, 'price': 150},\n",
       " '1002': {'name': 'Milky bar', 'quantity': 400, 'price': 15},\n",
       " '1003': {'name': 'Ferroro Rocher', 'quantity': 60, 'price': 600},\n",
       " '1004': {'name': 'Lollipop', 'quantity': 80, 'price': 5},\n",
       " '1005': {'name': 'Twix', 'quantity': 50, 'price': 95},\n",
       " '1006': {'name': 'Mars', 'quantity': 40, 'price': 150},\n",
       " '1007': {'name': 'Snickers', 'quantity': 55, 'price': 30},\n",
       " '1008': {'name': 'Nutella', 'quantity': 50, 'price': 100},\n",
       " '1009': {'name': 'Kinderjoy', 'quantity': 700, 'price': 40},\n",
       " '1010': {'name': 'Dark chocolate', 'quantity': 85, 'price': 98},\n",
       " '1011': {'name': 'Kit Kat', 'quantity': 300, 'price': 32},\n",
       " '1012': {'name': '5 star', 'quantity': 400, 'price': 23},\n",
       " '1013': {'name': 'Gems', 'quantity': 124, 'price': 15},\n",
       " '1014': {'name': 'Munch', 'quantity': 180, 'price': 5},\n",
       " '1015': {'name': 'Bournville', 'quantity': 300, 'price': 120}}"
      ]
     },
     "execution_count": 21,
     "metadata": {},
     "output_type": "execute_result"
    }
   ],
   "source": [
    "dct"
   ]
  },
  {
   "cell_type": "code",
   "execution_count": 22,
   "metadata": {},
   "outputs": [
    {
     "data": {
      "text/plain": [
       "{'1': {'prod_id': '1007',\n",
       "  'time_pr': 'Sat Sep 11 10:44:01 2021',\n",
       "  'bill': 450,\n",
       "  'quantity': 15,\n",
       "  'price': 30,\n",
       "  'pr_name': 'Snickers'}}"
      ]
     },
     "execution_count": 22,
     "metadata": {},
     "output_type": "execute_result"
    }
   ],
   "source": [
    "sales"
   ]
  },
  {
   "cell_type": "code",
   "execution_count": null,
   "metadata": {},
   "outputs": [],
   "source": []
  }
 ],
 "metadata": {
  "kernelspec": {
   "display_name": "Python 3",
   "language": "python",
   "name": "python3"
  },
  "language_info": {
   "codemirror_mode": {
    "name": "ipython",
    "version": 3
   },
   "file_extension": ".py",
   "mimetype": "text/x-python",
   "name": "python",
   "nbconvert_exporter": "python",
   "pygments_lexer": "ipython3",
   "version": "3.8.5"
  }
 },
 "nbformat": 4,
 "nbformat_minor": 5
}
